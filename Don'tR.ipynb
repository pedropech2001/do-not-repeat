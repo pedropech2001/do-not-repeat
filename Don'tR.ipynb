{
  "nbformat": 4,
  "nbformat_minor": 0,
  "metadata": {
    "colab": {
      "name": "Untitled1.ipynb",
      "provenance": [],
      "authorship_tag": "ABX9TyMLnPnlrzfFXrXksvi1+xZs",
      "include_colab_link": true
    },
    "kernelspec": {
      "name": "python3",
      "display_name": "Python 3"
    }
  },
  "cells": [
    {
      "cell_type": "markdown",
      "metadata": {
        "id": "view-in-github",
        "colab_type": "text"
      },
      "source": [
        "<a href=\"https://colab.research.google.com/github/pedropech2001/do-not-repeat/blob/master/Untitled1.ipynb\" target=\"_parent\"><img src=\"https://colab.research.google.com/assets/colab-badge.svg\" alt=\"Open In Colab\"/></a>"
      ]
    },
    {
      "cell_type": "code",
      "metadata": {
        "id": "H7GJxj4YUAJo",
        "colab_type": "code",
        "colab": {}
      },
      "source": [
        "def write(f, arg):\n",
        "    def do(time):\n",
        "        for _ in range(time):\n",
        "            f(*arg)\n",
        "    return do\n",
        "#print onlineclass 5 times\n",
        "write(print, ('online class'))(5)"
      ],
      "execution_count": null,
      "outputs": []
    }
  ]
}
