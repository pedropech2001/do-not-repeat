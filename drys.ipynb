{
  "nbformat": 4,
  "nbformat_minor": 0,
  "metadata": {
    "colab": {
      "name": "Untitled1.ipynb",
      "provenance": [],
      "authorship_tag": "ABX9TyPUhhmBgPoLvDk9xiSr+iAg",
      "include_colab_link": true
    },
    "kernelspec": {
      "name": "python3",
      "display_name": "Python 3"
    }
  },
  "cells": [
    {
      "cell_type": "markdown",
      "metadata": {
        "id": "view-in-github",
        "colab_type": "text"
      },
      "source": [
        "<a href=\"https://colab.research.google.com/github/pedropech2001/do-not-repeat/blob/master/drys.ipynb\" target=\"_parent\"><img src=\"https://colab.research.google.com/assets/colab-badge.svg\" alt=\"Open In Colab\"/></a>"
      ]
    },
    {
      "cell_type": "code",
      "metadata": {
        "id": "H7GJxj4YUAJo",
        "colab_type": "code",
        "colab": {}
      },
      "source": [
        "def isPrime(num):\n",
        "    if num < 1:\n",
        "        return False\n",
        "    elif num == 2:\n",
        "        return True\n",
        "    else:\n",
        "        for i in range(2, num):\n",
        "            if num % i == 0:\n",
        "                return False\n",
        "        return True            \n",
        "\n",
        "def app():\n",
        "    num = int(input('Write a number: '))\n",
        "    result = isPrime(num)\n",
        "\n",
        "    if result is True:\n",
        "        print('The number is prime!!')\n",
        "    else:\n",
        "        print('The number is not prime!!')\n",
        "\n",
        "if __name__ == '__main__':\n",
        "    app()"
      ],
      "execution_count": null,
      "outputs": []
    }
  ]
}